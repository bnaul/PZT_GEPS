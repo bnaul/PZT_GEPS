{
 "cells": [
  {
   "cell_type": "markdown",
   "metadata": {},
   "source": [
    "## TODO\n",
    "- Brett: invertible reshaping (spatial/temporal)\n",
    "- Brett: refactor model code into Python library\n",
    "- Josh: simple PCA clustering"
   ]
  },
  {
   "cell_type": "code",
   "execution_count": null,
   "metadata": {
    "collapsed": false
   },
   "outputs": [],
   "source": [
    "import os\n",
    "os.environ['CUDA_VISIBLE_DEVICES'] = '1'\n",
    "import numpy as np\n",
    "%matplotlib inline\n",
    "from matplotlib import pyplot as plt\n",
    "import seaborn as sns\n",
    "sns.set_context('poster')\n",
    "sns.set_style(\"whitegrid\", {'axes.grid': False})\n",
    "import h5py\n",
    "import tensorflow as tf\n",
    "\n",
    "from keras import backend as K\n",
    "gpu_opts = tf.ConfigProto(gpu_options=tf.GPUOptions(per_process_gpu_memory_fraction=0.4))\n",
    "K.set_session(tf.Session(config=gpu_opts))\n",
    "#K.set_image_data_format('channels_last')"
   ]
  },
  {
   "cell_type": "code",
   "execution_count": null,
   "metadata": {
    "collapsed": false
   },
   "outputs": [],
   "source": [
    "# Looks for files in current directory\n",
    "folder_path = './data/'\n",
    "\n",
    "# (User) Loads all the data, this file needs to be in the path defined by folder_path\n",
    "data = h5py.File(os.path.join(folder_path, 'cleaned_data.mat'))\n",
    "f = h5py.File(os.path.join(folder_path, 'cleaned_data.mat'), 'r')\n",
    "for name, data in f.items():\n",
    "    print(name)  # Name"
   ]
  },
  {
   "cell_type": "code",
   "execution_count": null,
   "metadata": {
    "collapsed": false
   },
   "outputs": [],
   "source": [
    "%%time\n",
    "loop_data = f['filt_AI_mat'][()]"
   ]
  },
  {
   "cell_type": "code",
   "execution_count": null,
   "metadata": {
    "collapsed": false
   },
   "outputs": [],
   "source": [
    "loop_data.shape  # (n_T, n_x, n_y)"
   ]
  },
  {
   "cell_type": "code",
   "execution_count": null,
   "metadata": {
    "collapsed": false
   },
   "outputs": [],
   "source": [
    "plt.plot(loop_data[:, 1, 1])"
   ]
  },
  {
   "cell_type": "code",
   "execution_count": null,
   "metadata": {
    "collapsed": false
   },
   "outputs": [],
   "source": [
    "X = np.rollaxis(loop_data.reshape(loop_data.shape[0], -1), 1)\n",
    "X = X.reshape((-1, 256))\n",
    "X -= np.mean(X)\n",
    "X /= np.std(X)\n",
    "X = np.atleast_3d(X)\n",
    "plt.plot(X[0, :, 0])"
   ]
  },
  {
   "cell_type": "code",
   "execution_count": null,
   "metadata": {
    "collapsed": false
   },
   "outputs": [],
   "source": [
    "from keras.models import Sequential\n",
    "from keras.layers import Dense, Dropout, Flatten, RepeatVector, Reshape, GRU, LSTM, TimeDistributed\n",
    "\n",
    "def dense_auto(size, n_step, drop_frac=0., activation='relu', **kwargs):\n",
    "    model = Sequential()\n",
    "    model.add(Flatten())\n",
    "    model.add(Dense(size, input_shape=(n_step,), activation=activation))\n",
    "    model.add(Dense(size, activation=activation))\n",
    "    if drop_frac > 0.:\n",
    "        model.add(Dropout(drop_frac))\n",
    "    model.add(Dense(size, activation=activation))\n",
    "    model.add(Dense(n_step, activation='linear'))\n",
    "    model.add(Reshape((n_step, 1)))\n",
    "    \n",
    "    return model\n",
    "\n",
    "def rnn_auto(size, n_step, drop_frac=0., embedding=None, **kwargs):\n",
    "    model = Sequential()\n",
    "#    model.add(Reshape((n_step, 1), input_shape=(n_step,)))\n",
    "    model.add(GRU(size, return_sequences=True, input_shape=(n_step, 1)))\n",
    "    model.add(GRU(embedding if embedding else size, return_sequences=False))\n",
    "    if drop_frac > 0.:\n",
    "        model.add(Dropout(drop_frac))\n",
    "\n",
    "    model.add(RepeatVector(n_step))\n",
    "    model.add(GRU(size, return_sequences=True))\n",
    "    model.add(TimeDistributed(Dense(1, activation='linear')))\n",
    "#    model.add(Flatten())\n",
    "    \n",
    "    return model"
   ]
  },
  {
   "cell_type": "code",
   "execution_count": null,
   "metadata": {
    "collapsed": false
   },
   "outputs": [],
   "source": [
    "import shutil\n",
    "from keras.optimizers import Adam, SGD\n",
    "from keras.callbacks import TensorBoard, ModelCheckpoint\n",
    "from keras_tqdm import TQDMNotebookCallback\n",
    "\n",
    "train = np.arange(len(X))\n",
    "#valid = np.arange(1024) + len(train)\n",
    "\n",
    "size = 96\n",
    "embedding = 8\n",
    "drop_frac = 0.25\n",
    "lr = 1e-3\n",
    "batch_size = 1024\n",
    "model_fun = rnn_auto\n",
    "\n",
    "run = (f\"{model_fun.__name__}{size:03d}_emb{embedding:03d}_{lr:1.0e}_drop{int(100 * drop_frac)}\"\n",
    "       f\"_batch{batch_size}\").replace('e-', 'm')\n",
    "    \n",
    "log_dir = os.path.join('log', run)\n",
    "print(\"Logging to {}\".format(os.path.abspath(log_dir)))\n",
    "shutil.rmtree(log_dir, ignore_errors=True)\n",
    "weights_path = os.path.join(log_dir, 'weights.h5')\n",
    "\n",
    "model = model_fun(size, n_step=X.shape[1], drop_frac=drop_frac, embedding=embedding)\n",
    "model.compile(Adam(lr), loss='mse')\n",
    "\n",
    "history = model.fit(X[train], X[train], epochs=25, batch_size=batch_size, #validation_data=(X[valid], X[valid]),\n",
    "                    callbacks=[TQDMNotebookCallback(leave_outer=True, leave_inner=False),\n",
    "                               TensorBoard(log_dir=log_dir, write_graph=False),\n",
    "                               ModelCheckpoint(weights_path)],\n",
    "                    verbose=False)"
   ]
  },
  {
   "cell_type": "code",
   "execution_count": null,
   "metadata": {
    "collapsed": false
   },
   "outputs": [],
   "source": [
    "plt.plot(history.history['loss'], 'o')"
   ]
  },
  {
   "cell_type": "code",
   "execution_count": null,
   "metadata": {
    "collapsed": false
   },
   "outputs": [],
   "source": [
    "i = 10\n",
    "\n",
    "plt.plot(X[i])\n",
    "plt.plot(model.predict(X[[i]])[0])\n",
    "plt.plot(X[i] - model.predict(X[[i]])[0])\n",
    "np.mean((X[i] - model.predict(X[[i]])[0]) ** 2)"
   ]
  },
  {
   "cell_type": "code",
   "execution_count": null,
   "metadata": {
    "collapsed": false
   },
   "outputs": [],
   "source": [
    "%%time\n",
    "from sklearn.decomposition import PCA\n",
    "\n",
    "pca_model = PCA(16)\n",
    "pca_model.fit(X[train])"
   ]
  },
  {
   "cell_type": "code",
   "execution_count": null,
   "metadata": {
    "collapsed": false
   },
   "outputs": [],
   "source": [
    "i = 0\n",
    "\n",
    "plt.plot(X[i])\n",
    "plt.plot(pca_model.inverse_transform(pca_model.transform(X[[i]])[0]))\n",
    "np.mean((X[i] - pca_model.inverse_transform(pca_model.transform(X[[i]])[0])) ** 2)"
   ]
  }
 ],
 "metadata": {
  "kernelspec": {
   "display_name": "genesis",
   "language": "python",
   "name": "genesis"
  },
  "language_info": {
   "codemirror_mode": {
    "name": "ipython",
    "version": 3
   },
   "file_extension": ".py",
   "mimetype": "text/x-python",
   "name": "python",
   "nbconvert_exporter": "python",
   "pygments_lexer": "ipython3",
   "version": "3.6.1"
  },
  "widgets": {
   "state": {
    "01d80a94a7bd4cc7a916bff791bb5227": {
     "views": [
      {
       "cell_index": 8
      }
     ]
    },
    "04726251a614400e9992ac47d78d7138": {
     "views": [
      {
       "cell_index": 7
      }
     ]
    },
    "0fa460a36cc3405ba988b004706e3209": {
     "views": [
      {
       "cell_index": 8
      }
     ]
    },
    "1bc7ebb230f749f99823d205baf3aaa4": {
     "views": [
      {
       "cell_index": 8
      }
     ]
    },
    "1f447d5925d2469685e6eeb8572ee352": {
     "views": [
      {
       "cell_index": 8
      }
     ]
    },
    "1ffce5dc74d04cad92b78e3e35c5ebdd": {
     "views": [
      {
       "cell_index": 7
      }
     ]
    },
    "2e61ef3667c54743a6b5f297798949f8": {
     "views": [
      {
       "cell_index": 7
      }
     ]
    },
    "3d844e69560849c9b1a01cd3a2e0b20b": {
     "views": [
      {
       "cell_index": 8
      }
     ]
    },
    "3fa53d0dd06a4f8eb4d4214e644dc989": {
     "views": [
      {
       "cell_index": 7
      }
     ]
    },
    "40d328ae60f3457aa969e222eefdca9b": {
     "views": [
      {
       "cell_index": 8
      }
     ]
    },
    "4a429836075a47158543eaed8890c325": {
     "views": [
      {
       "cell_index": 7
      }
     ]
    },
    "4ad4db4525944672990fe2d88320a1d7": {
     "views": [
      {
       "cell_index": 8
      }
     ]
    },
    "4bdeced5c3f24a28876ccca9f5a871c9": {
     "views": [
      {
       "cell_index": 8
      }
     ]
    },
    "590f26a8fe174866b459ebb7f0d7d506": {
     "views": [
      {
       "cell_index": 7
      }
     ]
    },
    "75185f96e55145e0bad79769c9448c59": {
     "views": [
      {
       "cell_index": 8
      }
     ]
    },
    "7ae8a6769d2843d18a5da6cfc4f44d0d": {
     "views": [
      {
       "cell_index": 8
      }
     ]
    },
    "7c6e0b4db5634e9a95ff2088a031d342": {
     "views": [
      {
       "cell_index": 8
      }
     ]
    },
    "827951ac8e194336baabd26cbae6e2ad": {
     "views": [
      {
       "cell_index": 8
      }
     ]
    },
    "8432cb6d475d4ef6b034c502dcbb6bab": {
     "views": [
      {
       "cell_index": 7
      }
     ]
    },
    "8551d19cc717482b8415ab4bcf83476b": {
     "views": [
      {
       "cell_index": 8
      }
     ]
    },
    "87c4ad06f0164efeb2f18d9b797c38a2": {
     "views": [
      {
       "cell_index": 8
      }
     ]
    },
    "8a6260b8e19940dfa572d4d9eb6c7432": {
     "views": [
      {
       "cell_index": 8
      }
     ]
    },
    "abfb5dc5cfcd46a283574936a3ad845f": {
     "views": [
      {
       "cell_index": 7
      }
     ]
    },
    "aeca61d14a2c4a3fa4dbfef4a51f4cf0": {
     "views": [
      {
       "cell_index": 8
      }
     ]
    },
    "b4f86e0a27804471aabc7bfd782b0146": {
     "views": [
      {
       "cell_index": 7
      }
     ]
    },
    "b6a4e41d6ca74b66a222dee9ff34d5b5": {
     "views": [
      {
       "cell_index": 8
      }
     ]
    },
    "b6c93ec60eeb4fc2913f681e2102d3dd": {
     "views": [
      {
       "cell_index": 8
      }
     ]
    },
    "b702c448aa2b4f8bb953d23c73d7a159": {
     "views": [
      {
       "cell_index": 8
      }
     ]
    },
    "c2415b89979a4dc18f9de6b7610d32db": {
     "views": [
      {
       "cell_index": 8
      }
     ]
    },
    "c584548159bb4f539f95e1a6d360e6f2": {
     "views": [
      {
       "cell_index": 8
      }
     ]
    },
    "c9f2b7d3f3954970bf0c31a7943e9db1": {
     "views": [
      {
       "cell_index": 7
      }
     ]
    },
    "ce1f3386eade43f29fd2162c4584fab1": {
     "views": [
      {
       "cell_index": 8
      }
     ]
    },
    "d1405a2fac264cb598db9675508c7584": {
     "views": [
      {
       "cell_index": 8
      }
     ]
    },
    "d1edd9a2ea854c959eee0235221878b4": {
     "views": [
      {
       "cell_index": 7
      }
     ]
    },
    "d44874015d5b4f71a7486510921dbbd6": {
     "views": [
      {
       "cell_index": 8
      }
     ]
    },
    "d6a19a688e794345a00663aafdefa55c": {
     "views": [
      {
       "cell_index": 7
      }
     ]
    },
    "f3d3a8a5f4124a62b0e6c29fd9a51ce7": {
     "views": [
      {
       "cell_index": 8
      }
     ]
    },
    "f55a60bea6d645b097ea044401b586cc": {
     "views": [
      {
       "cell_index": 7
      }
     ]
    },
    "f803651a463447b4b10baa0691466099": {
     "views": [
      {
       "cell_index": 8
      }
     ]
    }
   },
   "version": "1.2.0"
  }
 },
 "nbformat": 4,
 "nbformat_minor": 2
}
